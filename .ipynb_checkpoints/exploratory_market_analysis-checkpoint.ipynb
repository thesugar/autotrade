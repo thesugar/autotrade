{
 "cells": [
  {
   "cell_type": "markdown",
   "metadata": {},
   "source": [
    "# Python による FX 分析"
   ]
  },
  {
   "cell_type": "markdown",
   "metadata": {},
   "source": [
    "## 準備\n",
    "- まずは必要なパッケージをインポートする"
   ]
  },
  {
   "cell_type": "code",
   "execution_count": 1,
   "metadata": {},
   "outputs": [],
   "source": [
    "import pandas as pd\n",
    "import numpy as np\n",
    "import datetime\n",
    "import matplotlib.pyplot as plt\n",
    "import mplfinance as mpf\n",
    "%matplotlib inline"
   ]
  },
  {
   "cell_type": "markdown",
   "metadata": {},
   "source": [
    "## データの読み込み\n",
    "- OANDA API から取得したデータを読み込む\n",
    "- index を datetime 型にして扱いやすくする"
   ]
  },
  {
   "cell_type": "code",
   "execution_count": 2,
   "metadata": {},
   "outputs": [],
   "source": [
    "df = pd.read_csv('try.csv', index_col='Datetime')\n",
    "df = df.drop('Volume', axis=1)\n",
    "df.index = pd.to_datetime(df.index)"
   ]
  },
  {
   "cell_type": "markdown",
   "metadata": {},
   "source": [
    "- 営業日ベースでリサンプリングしたのち、`ohlc()` メソッドによりわかりやすく整形できる"
   ]
  },
  {
   "cell_type": "code",
   "execution_count": 3,
   "metadata": {},
   "outputs": [
    {
     "data": {
      "text/html": [
       "<div>\n",
       "<style scoped>\n",
       "    .dataframe tbody tr th:only-of-type {\n",
       "        vertical-align: middle;\n",
       "    }\n",
       "\n",
       "    .dataframe tbody tr th {\n",
       "        vertical-align: top;\n",
       "    }\n",
       "\n",
       "    .dataframe thead tr th {\n",
       "        text-align: left;\n",
       "    }\n",
       "\n",
       "    .dataframe thead tr:last-of-type th {\n",
       "        text-align: right;\n",
       "    }\n",
       "</style>\n",
       "<table border=\"1\" class=\"dataframe\">\n",
       "  <thead>\n",
       "    <tr>\n",
       "      <th></th>\n",
       "      <th colspan=\"4\" halign=\"left\">Open</th>\n",
       "      <th colspan=\"4\" halign=\"left\">High</th>\n",
       "      <th colspan=\"4\" halign=\"left\">Low</th>\n",
       "      <th colspan=\"4\" halign=\"left\">Close</th>\n",
       "    </tr>\n",
       "    <tr>\n",
       "      <th></th>\n",
       "      <th>open</th>\n",
       "      <th>high</th>\n",
       "      <th>low</th>\n",
       "      <th>close</th>\n",
       "      <th>open</th>\n",
       "      <th>high</th>\n",
       "      <th>low</th>\n",
       "      <th>close</th>\n",
       "      <th>open</th>\n",
       "      <th>high</th>\n",
       "      <th>low</th>\n",
       "      <th>close</th>\n",
       "      <th>open</th>\n",
       "      <th>high</th>\n",
       "      <th>low</th>\n",
       "      <th>close</th>\n",
       "    </tr>\n",
       "    <tr>\n",
       "      <th>Datetime</th>\n",
       "      <th></th>\n",
       "      <th></th>\n",
       "      <th></th>\n",
       "      <th></th>\n",
       "      <th></th>\n",
       "      <th></th>\n",
       "      <th></th>\n",
       "      <th></th>\n",
       "      <th></th>\n",
       "      <th></th>\n",
       "      <th></th>\n",
       "      <th></th>\n",
       "      <th></th>\n",
       "      <th></th>\n",
       "      <th></th>\n",
       "      <th></th>\n",
       "    </tr>\n",
       "  </thead>\n",
       "  <tbody>\n",
       "    <tr>\n",
       "      <th>2018-03-08</th>\n",
       "      <td>106.173</td>\n",
       "      <td>106.437</td>\n",
       "      <td>106.052</td>\n",
       "      <td>106.437</td>\n",
       "      <td>106.173</td>\n",
       "      <td>106.440</td>\n",
       "      <td>106.067</td>\n",
       "      <td>106.438</td>\n",
       "      <td>106.156</td>\n",
       "      <td>106.412</td>\n",
       "      <td>106.014</td>\n",
       "      <td>106.408</td>\n",
       "      <td>106.159</td>\n",
       "      <td>106.435</td>\n",
       "      <td>106.049</td>\n",
       "      <td>106.420</td>\n",
       "    </tr>\n",
       "    <tr>\n",
       "      <th>2018-03-09</th>\n",
       "      <td>106.418</td>\n",
       "      <td>107.020</td>\n",
       "      <td>106.363</td>\n",
       "      <td>106.912</td>\n",
       "      <td>106.418</td>\n",
       "      <td>107.052</td>\n",
       "      <td>106.397</td>\n",
       "      <td>106.912</td>\n",
       "      <td>106.358</td>\n",
       "      <td>106.997</td>\n",
       "      <td>106.353</td>\n",
       "      <td>106.883</td>\n",
       "      <td>106.391</td>\n",
       "      <td>107.018</td>\n",
       "      <td>106.361</td>\n",
       "      <td>106.904</td>\n",
       "    </tr>\n",
       "    <tr>\n",
       "      <th>2018-03-12</th>\n",
       "      <td>106.902</td>\n",
       "      <td>106.956</td>\n",
       "      <td>106.300</td>\n",
       "      <td>106.315</td>\n",
       "      <td>106.940</td>\n",
       "      <td>106.972</td>\n",
       "      <td>106.315</td>\n",
       "      <td>106.315</td>\n",
       "      <td>106.878</td>\n",
       "      <td>106.942</td>\n",
       "      <td>106.262</td>\n",
       "      <td>106.262</td>\n",
       "      <td>106.886</td>\n",
       "      <td>106.954</td>\n",
       "      <td>106.293</td>\n",
       "      <td>106.293</td>\n",
       "    </tr>\n",
       "    <tr>\n",
       "      <th>2018-03-13</th>\n",
       "      <td>106.296</td>\n",
       "      <td>107.268</td>\n",
       "      <td>106.270</td>\n",
       "      <td>106.502</td>\n",
       "      <td>106.334</td>\n",
       "      <td>107.296</td>\n",
       "      <td>106.302</td>\n",
       "      <td>106.537</td>\n",
       "      <td>106.268</td>\n",
       "      <td>107.250</td>\n",
       "      <td>106.256</td>\n",
       "      <td>106.493</td>\n",
       "      <td>106.268</td>\n",
       "      <td>107.270</td>\n",
       "      <td>106.268</td>\n",
       "      <td>106.530</td>\n",
       "    </tr>\n",
       "    <tr>\n",
       "      <th>2018-03-14</th>\n",
       "      <td>106.532</td>\n",
       "      <td>106.744</td>\n",
       "      <td>106.078</td>\n",
       "      <td>106.143</td>\n",
       "      <td>106.656</td>\n",
       "      <td>106.748</td>\n",
       "      <td>106.128</td>\n",
       "      <td>106.170</td>\n",
       "      <td>106.532</td>\n",
       "      <td>106.710</td>\n",
       "      <td>106.066</td>\n",
       "      <td>106.120</td>\n",
       "      <td>106.629</td>\n",
       "      <td>106.742</td>\n",
       "      <td>106.080</td>\n",
       "      <td>106.166</td>\n",
       "    </tr>\n",
       "    <tr>\n",
       "      <th>...</th>\n",
       "      <td>...</td>\n",
       "      <td>...</td>\n",
       "      <td>...</td>\n",
       "      <td>...</td>\n",
       "      <td>...</td>\n",
       "      <td>...</td>\n",
       "      <td>...</td>\n",
       "      <td>...</td>\n",
       "      <td>...</td>\n",
       "      <td>...</td>\n",
       "      <td>...</td>\n",
       "      <td>...</td>\n",
       "      <td>...</td>\n",
       "      <td>...</td>\n",
       "      <td>...</td>\n",
       "      <td>...</td>\n",
       "    </tr>\n",
       "    <tr>\n",
       "      <th>2020-03-02</th>\n",
       "      <td>107.672</td>\n",
       "      <td>108.548</td>\n",
       "      <td>107.417</td>\n",
       "      <td>108.462</td>\n",
       "      <td>107.847</td>\n",
       "      <td>108.579</td>\n",
       "      <td>107.500</td>\n",
       "      <td>108.537</td>\n",
       "      <td>107.672</td>\n",
       "      <td>108.500</td>\n",
       "      <td>107.402</td>\n",
       "      <td>108.455</td>\n",
       "      <td>107.795</td>\n",
       "      <td>108.550</td>\n",
       "      <td>107.418</td>\n",
       "      <td>108.527</td>\n",
       "    </tr>\n",
       "    <tr>\n",
       "      <th>2020-03-03</th>\n",
       "      <td>108.526</td>\n",
       "      <td>108.526</td>\n",
       "      <td>106.890</td>\n",
       "      <td>107.009</td>\n",
       "      <td>108.526</td>\n",
       "      <td>108.526</td>\n",
       "      <td>106.921</td>\n",
       "      <td>107.075</td>\n",
       "      <td>108.402</td>\n",
       "      <td>108.402</td>\n",
       "      <td>106.848</td>\n",
       "      <td>107.006</td>\n",
       "      <td>108.438</td>\n",
       "      <td>108.438</td>\n",
       "      <td>106.891</td>\n",
       "      <td>107.069</td>\n",
       "    </tr>\n",
       "    <tr>\n",
       "      <th>2020-03-04</th>\n",
       "      <td>107.068</td>\n",
       "      <td>107.680</td>\n",
       "      <td>107.068</td>\n",
       "      <td>107.680</td>\n",
       "      <td>107.144</td>\n",
       "      <td>107.742</td>\n",
       "      <td>107.144</td>\n",
       "      <td>107.742</td>\n",
       "      <td>107.033</td>\n",
       "      <td>107.646</td>\n",
       "      <td>107.033</td>\n",
       "      <td>107.646</td>\n",
       "      <td>107.115</td>\n",
       "      <td>107.716</td>\n",
       "      <td>107.115</td>\n",
       "      <td>107.716</td>\n",
       "    </tr>\n",
       "    <tr>\n",
       "      <th>2020-03-05</th>\n",
       "      <td>107.715</td>\n",
       "      <td>107.715</td>\n",
       "      <td>106.011</td>\n",
       "      <td>106.258</td>\n",
       "      <td>107.718</td>\n",
       "      <td>107.718</td>\n",
       "      <td>106.088</td>\n",
       "      <td>106.272</td>\n",
       "      <td>107.571</td>\n",
       "      <td>107.571</td>\n",
       "      <td>105.975</td>\n",
       "      <td>106.242</td>\n",
       "      <td>107.590</td>\n",
       "      <td>107.590</td>\n",
       "      <td>106.012</td>\n",
       "      <td>106.264</td>\n",
       "    </tr>\n",
       "    <tr>\n",
       "      <th>2020-03-06</th>\n",
       "      <td>106.263</td>\n",
       "      <td>106.336</td>\n",
       "      <td>105.029</td>\n",
       "      <td>105.182</td>\n",
       "      <td>106.296</td>\n",
       "      <td>106.345</td>\n",
       "      <td>105.074</td>\n",
       "      <td>105.203</td>\n",
       "      <td>106.254</td>\n",
       "      <td>106.314</td>\n",
       "      <td>104.993</td>\n",
       "      <td>105.143</td>\n",
       "      <td>106.260</td>\n",
       "      <td>106.338</td>\n",
       "      <td>105.028</td>\n",
       "      <td>105.195</td>\n",
       "    </tr>\n",
       "  </tbody>\n",
       "</table>\n",
       "<p>522 rows × 16 columns</p>\n",
       "</div>"
      ],
      "text/plain": [
       "               Open                                High                    \\\n",
       "               open     high      low    close     open     high      low   \n",
       "Datetime                                                                    \n",
       "2018-03-08  106.173  106.437  106.052  106.437  106.173  106.440  106.067   \n",
       "2018-03-09  106.418  107.020  106.363  106.912  106.418  107.052  106.397   \n",
       "2018-03-12  106.902  106.956  106.300  106.315  106.940  106.972  106.315   \n",
       "2018-03-13  106.296  107.268  106.270  106.502  106.334  107.296  106.302   \n",
       "2018-03-14  106.532  106.744  106.078  106.143  106.656  106.748  106.128   \n",
       "...             ...      ...      ...      ...      ...      ...      ...   \n",
       "2020-03-02  107.672  108.548  107.417  108.462  107.847  108.579  107.500   \n",
       "2020-03-03  108.526  108.526  106.890  107.009  108.526  108.526  106.921   \n",
       "2020-03-04  107.068  107.680  107.068  107.680  107.144  107.742  107.144   \n",
       "2020-03-05  107.715  107.715  106.011  106.258  107.718  107.718  106.088   \n",
       "2020-03-06  106.263  106.336  105.029  105.182  106.296  106.345  105.074   \n",
       "\n",
       "                         Low                               Close           \\\n",
       "              close     open     high      low    close     open     high   \n",
       "Datetime                                                                    \n",
       "2018-03-08  106.438  106.156  106.412  106.014  106.408  106.159  106.435   \n",
       "2018-03-09  106.912  106.358  106.997  106.353  106.883  106.391  107.018   \n",
       "2018-03-12  106.315  106.878  106.942  106.262  106.262  106.886  106.954   \n",
       "2018-03-13  106.537  106.268  107.250  106.256  106.493  106.268  107.270   \n",
       "2018-03-14  106.170  106.532  106.710  106.066  106.120  106.629  106.742   \n",
       "...             ...      ...      ...      ...      ...      ...      ...   \n",
       "2020-03-02  108.537  107.672  108.500  107.402  108.455  107.795  108.550   \n",
       "2020-03-03  107.075  108.402  108.402  106.848  107.006  108.438  108.438   \n",
       "2020-03-04  107.742  107.033  107.646  107.033  107.646  107.115  107.716   \n",
       "2020-03-05  106.272  107.571  107.571  105.975  106.242  107.590  107.590   \n",
       "2020-03-06  105.203  106.254  106.314  104.993  105.143  106.260  106.338   \n",
       "\n",
       "                              \n",
       "                low    close  \n",
       "Datetime                      \n",
       "2018-03-08  106.049  106.420  \n",
       "2018-03-09  106.361  106.904  \n",
       "2018-03-12  106.293  106.293  \n",
       "2018-03-13  106.268  106.530  \n",
       "2018-03-14  106.080  106.166  \n",
       "...             ...      ...  \n",
       "2020-03-02  107.418  108.527  \n",
       "2020-03-03  106.891  107.069  \n",
       "2020-03-04  107.115  107.716  \n",
       "2020-03-05  106.012  106.264  \n",
       "2020-03-06  105.028  105.195  \n",
       "\n",
       "[522 rows x 16 columns]"
      ]
     },
     "execution_count": 3,
     "metadata": {},
     "output_type": "execute_result"
    }
   ],
   "source": [
    "df.resample('B').ohlc()"
   ]
  },
  {
   "cell_type": "markdown",
   "metadata": {},
   "source": [
    "## シンプルなチャートの作成"
   ]
  },
  {
   "cell_type": "markdown",
   "metadata": {},
   "source": [
    "- そのままプロットすると以下のようになる"
   ]
  },
  {
   "cell_type": "code",
   "execution_count": 4,
   "metadata": {},
   "outputs": [
    {
     "data": {
      "text/plain": [
       "<matplotlib.axes._subplots.AxesSubplot at 0x11dd92b80>"
      ]
     },
     "execution_count": 4,
     "metadata": {},
     "output_type": "execute_result"
    },
    {
     "data": {
      "image/png": "[encoded data removed]",
      "text/plain": [
       "<Figure size 1080x432 with 1 Axes>"
      ]
     },
     "metadata": {},
     "output_type": "display_data"
    }
   ],
   "source": [
    "df.plot(figsize=(15, 6), legend='best', grid=True)"
   ]
  },
  {
   "cell_type": "markdown",
   "metadata": {},
   "source": [
    "## ローソク足チャート"
   ]
  },
  {
   "cell_type": "markdown",
   "metadata": {},
   "source": [
    "- plotly というモジュールを使えば簡単にローソク足をプロットできる\n",
    "- ズームしたり、マウスをあてるとその日の情報がわかったりして便利"
   ]
  },
  {
   "cell_type": "code",
   "execution_count": null,
   "metadata": {},
   "outputs": [],
   "source": [
    "# df をそのままプロットしようとするとデータ量が多くて処理が完了しないのでデータ量を絞る\n",
    "df = df[:50]"
   ]
  },
  {
   "cell_type": "code",
   "execution_count": null,
   "metadata": {},
   "outputs": [],
   "source": [
    "# plotly モジュールのインポート\n",
    "from plotly.offline import init_notebook_mode, iplot\n",
    "from plotly import figure_factory as FF\n",
    "\n",
    "# Jupyter notebook用設定\n",
    "init_notebook_mode(connected=False) \n",
    "\n",
    "# ローソクチャートの設定\n",
    "fig = FF.create_candlestick(df.Open, df.High, df.Low, df.Close, dates = df.index)\n",
    "iplot(fig)"
   ]
  },
  {
   "cell_type": "markdown",
   "metadata": {},
   "source": [
    "## ローソク足チャート2"
   ]
  },
  {
   "cell_type": "markdown",
   "metadata": {},
   "source": [
    "- `mplfinance` モジュールを使っても簡単にローソク足チャートを生成できる\n",
    "- 以前は `mpl_finance` モジュールが使われていたが、新しいバージョンは `mplfinance` なので注意"
   ]
  },
  {
   "cell_type": "markdown",
   "metadata": {},
   "source": [
    "- 軸やラベルを消す設定は以下のファイルを直接いじる  （他のやり方もありそうな気がするけど）\n",
    "\n",
    "```python\n",
    "import matplotlib as mpl\n",
    "\n",
    "mpl.matplotlib_fname()\n",
    "```"
   ]
  },
  {
   "cell_type": "code",
   "execution_count": 5,
   "metadata": {},
   "outputs": [
    {
     "data": {
      "image/png": "[encoded data removed]",
      "text/plain": [
       "<Figure size 576x414 with 2 Axes>"
      ]
     },
     "metadata": {},
     "output_type": "display_data"
    }
   ],
   "source": [
    "# show_nontrading: 週末や休日などの取引がない日を表示する (True) か省略 (False) するか\n",
    "# mav: 移動平均線\n",
    "#      mav 引数に指定する数字は、日や秒などの数ではなく、移動平均に使われるデータ点の数\n",
    "save = dict(fname='try.png', transparent=True)\n",
    "mpf.plot(df[:50], type='candle', style='charles', show_nontrading=True, mav=(3,9), savefig=save)"
   ]
  },
  {
   "cell_type": "code",
   "execution_count": null,
   "metadata": {},
   "outputs": [],
   "source": [
    "raise Exception('このセルは実行不要')\n",
    "# いったん不要\n",
    "import pandas as pd\n",
    "import numpy as np\n",
    "from oandapyV20 import API\n",
    "from oandapyV20.exceptions import V20Error\n",
    "from oandapyV20.endpoints.pricing import PricingStream\n",
    "import oandapyV20.endpoints.orders as orders\n",
    "import oandapyV20.endpoints.instruments as instruments\n",
    "import oandapyV20.endpoints.accounts as accounts\n",
    "import settings\n",
    "from main import connect, get_currency_info, get_price_data\n",
    "import datetime\n",
    "\n",
    "#api = connect()\n",
    "#rtn = get_price_data(currency_pair=\"USD_JPY\", api=api, use_count=True, count=5000, granularity=\"M5\")"
   ]
  }
 ],
 "metadata": {
  "kernelspec": {
   "display_name": "Python 3",
   "language": "python",
   "name": "python3"
  },
  "language_info": {
   "codemirror_mode": {
    "name": "ipython",
    "version": 3
   },
   "file_extension": ".py",
   "mimetype": "text/x-python",
   "name": "python",
   "nbconvert_exporter": "python",
   "pygments_lexer": "ipython3",
   "version": "3.8.2"
  }
 },
 "nbformat": 4,
 "nbformat_minor": 4
}
