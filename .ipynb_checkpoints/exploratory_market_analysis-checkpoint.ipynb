{
 "cells": [
  {
   "cell_type": "code",
   "execution_count": 1,
   "metadata": {},
   "outputs": [
    {
     "data": {
      "text/plain": [
       "{'instruments': [{'name': 'USD_JPY',\n",
       "   'type': 'CURRENCY',\n",
       "   'displayName': 'USD/JPY',\n",
       "   'pipLocation': -2,\n",
       "   'displayPrecision': 3,\n",
       "   'tradeUnitsPrecision': 0,\n",
       "   'minimumTradeSize': '1',\n",
       "   'maximumTrailingStopDistance': '100.000',\n",
       "   'minimumTrailingStopDistance': '0.050',\n",
       "   'maximumPositionSize': '0',\n",
       "   'maximumOrderUnits': '100000000',\n",
       "   'marginRate': '0.04',\n",
       "   'guaranteedStopLossOrderMode': 'DISABLED',\n",
       "   'tags': [{'type': 'ASSET_CLASS', 'name': 'CURRENCY'}],\n",
       "   'financing': {'longRate': '0.0111',\n",
       "    'shortRate': '-0.0274',\n",
       "    'financingDaysOfWeek': [{'dayOfWeek': 'MONDAY', 'daysCharged': 1},\n",
       "     {'dayOfWeek': 'TUESDAY', 'daysCharged': 1},\n",
       "     {'dayOfWeek': 'WEDNESDAY', 'daysCharged': 1},\n",
       "     {'dayOfWeek': 'THURSDAY', 'daysCharged': 1},\n",
       "     {'dayOfWeek': 'FRIDAY', 'daysCharged': 1},\n",
       "     {'dayOfWeek': 'SATURDAY', 'daysCharged': 0},\n",
       "     {'dayOfWeek': 'SUNDAY', 'daysCharged': 0}]}}],\n",
       " 'lastTransactionID': '11'}"
      ]
     },
     "execution_count": 1,
     "metadata": {},
     "output_type": "execute_result"
    }
   ],
   "source": [
    "import pandas as pd\n",
    "import numpy as np\n",
    "from oandapyV20 import API\n",
    "from oandapyV20.exceptions import V20Error\n",
    "from oandapyV20.endpoints.pricing import PricingStream\n",
    "import oandapyV20.endpoints.orders as orders\n",
    "import oandapyV20.endpoints.instruments as instruments\n",
    "import oandapyV20.endpoints.accounts as accounts\n",
    "import settings\n",
    "from main import connect, get_currency_info\n",
    "\n",
    "api = connect()\n",
    "get_currency_info(\"USD_JPY\", api=api)"
   ]
  },
  {
   "cell_type": "code",
   "execution_count": null,
   "metadata": {},
   "outputs": [],
   "source": []
  }
 ],
 "metadata": {
  "kernelspec": {
   "display_name": "Python 3",
   "language": "python",
   "name": "python3"
  },
  "language_info": {
   "codemirror_mode": {
    "name": "ipython",
    "version": 3
   },
   "file_extension": ".py",
   "mimetype": "text/x-python",
   "name": "python",
   "nbconvert_exporter": "python",
   "pygments_lexer": "ipython3",
   "version": "3.8.2"
  }
 },
 "nbformat": 4,
 "nbformat_minor": 4
}
