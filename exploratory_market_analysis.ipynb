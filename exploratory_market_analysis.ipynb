{
 "cells": [
  {
   "cell_type": "code",
   "execution_count": null,
   "metadata": {},
   "outputs": [],
   "source": [
    "import pandas as pd\n",
    "import numpy as np\n",
    "from oandapyV20 import API\n",
    "from oandapyV20.exceptions import V20Error\n",
    "from oandapyV20.endpoints.pricing import PricingStream\n",
    "import oandapyV20.endpoints.orders as orders\n",
    "import oandapyV20.endpoints.instruments as instruments\n",
    "import oandapyV20.endpoints.accounts as accounts\n",
    "import settings\n",
    "\n",
    "def connect():\n",
    "    \n",
    "    access_token = settings.ACCESS_TOKEN\n",
    "    api = API(access_token=access_token, environment=\"practice\")\n",
    "    return api\n",
    "\n",
    "accountID = \"101-009-13639425-001\"\n",
    "api = connect()\n",
    "\n",
    "params = { \"count\" : 10, \"granularity\": \"W\" }\n",
    "r = instruments.InstrumentsCandles(instrument=\"USD_JPY\", params=params)\n",
    "pd.DataFrame(api.request(r)['candles'])['mid'][0]"
   ]
  },
  {
   "cell_type": "code",
   "execution_count": null,
   "metadata": {},
   "outputs": [],
   "source": []
  }
 ],
 "metadata": {
  "kernelspec": {
   "display_name": "Python 3",
   "language": "python",
   "name": "python3"
  },
  "language_info": {
   "codemirror_mode": {
    "name": "ipython",
    "version": 3
   },
   "file_extension": ".py",
   "mimetype": "text/x-python",
   "name": "python",
   "nbconvert_exporter": "python",
   "pygments_lexer": "ipython3",
   "version": "3.8.2"
  }
 },
 "nbformat": 4,
 "nbformat_minor": 4
}
